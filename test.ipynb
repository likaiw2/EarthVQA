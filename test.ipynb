{
 "cells": [
  {
   "cell_type": "code",
   "execution_count": 7,
   "metadata": {},
   "outputs": [
    {
     "name": "stdout",
     "output_type": "stream",
     "text": [
      "<KeysViewHDF5 ['feature', 'pred_mask']>\n",
      "(1024, 1024)\n",
      "[2 2 2 ... 7 7 7]\n"
     ]
    }
   ],
   "source": [
    "import h5py\n",
    "import numpy as np\n",
    "\n",
    "with h5py.File('/home/liw324/code/Segment/EarthVQA/log/sfpnr50/test_features/0.hdf5', 'r') as f:\n",
    "    print(f.keys())\n",
    "    # print(f['feature'].shape)\n",
    "    # print(f['feature'][0])\n",
    "    # print(f['feature'][0].shape)\n",
    "    print(f['pred_mask'].shape)\n",
    "    print(f['pred_mask'][0])\n",
    "    "
   ]
  },
  {
   "cell_type": "code",
   "execution_count": 4,
   "metadata": {},
   "outputs": [
    {
     "name": "stdout",
     "output_type": "stream",
     "text": [
      "[[2 2 2 ... 1 1 1]\n",
      " [2 2 2 ... 1 1 1]\n",
      " [2 2 2 ... 1 1 1]\n",
      " ...\n",
      " [3 3 3 ... 7 7 7]\n",
      " [3 3 3 ... 7 7 7]\n",
      " [3 3 3 ... 7 7 7]]\n"
     ]
    }
   ],
   "source": [
    "import numpy as np\n",
    "import PIL.Image as Image\n",
    "\n",
    "pic = Image.open(\"/home/liw324/code/Segment/EarthVQA/dataset/Train/masks_png/0.png\")\n",
    "pic_numpy = np.array(pic)\n",
    "print(pic_numpy)"
   ]
  }
 ],
 "metadata": {
  "kernelspec": {
   "display_name": "EarthVQA",
   "language": "python",
   "name": "python3"
  },
  "language_info": {
   "codemirror_mode": {
    "name": "ipython",
    "version": 3
   },
   "file_extension": ".py",
   "mimetype": "text/x-python",
   "name": "python",
   "nbconvert_exporter": "python",
   "pygments_lexer": "ipython3",
   "version": "3.9.21"
  }
 },
 "nbformat": 4,
 "nbformat_minor": 2
}
